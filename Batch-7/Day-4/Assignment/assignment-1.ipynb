{
 "cells": [
  {
   "cell_type": "code",
   "execution_count": 4,
   "metadata": {},
   "outputs": [
    {
     "name": "stdout",
     "output_type": "stream",
     "text": [
      "Enter The Current Altitute In Ft :-5500\n",
      "Pelese Turn Around And Attempt Later.\n"
     ]
    }
   ],
   "source": [
    "altitude = input(\"Enter The Current Altitute In Ft :-\")\n",
    "altitude = int(altitude)\n",
    "if altitude < 1000:\n",
    "    print(\"You Can Safe To Land The Plane.\")\n",
    "elif altitude > 1000 and altitude < 5000:\n",
    "    print(\"Pelese Bring It Further Down To 1000 Ft.\")\n",
    "else:\n",
    "    print(\"Pelese Turn Around And Attempt Later.\")\n",
    "    "
   ]
  },
  {
   "cell_type": "code",
   "execution_count": null,
   "metadata": {},
   "outputs": [],
   "source": []
  }
 ],
 "metadata": {
  "kernelspec": {
   "display_name": "Python 3",
   "language": "python",
   "name": "python3"
  },
  "language_info": {
   "codemirror_mode": {
    "name": "ipython",
    "version": 3
   },
   "file_extension": ".py",
   "mimetype": "text/x-python",
   "name": "python",
   "nbconvert_exporter": "python",
   "pygments_lexer": "ipython3",
   "version": "3.8.3"
  }
 },
 "nbformat": 4,
 "nbformat_minor": 4
}
